{
  "nbformat": 4,
  "nbformat_minor": 0,
  "metadata": {
    "kernelspec": {
      "display_name": "Python 3",
      "language": "python",
      "name": "python3"
    },
    "language_info": {
      "codemirror_mode": {
        "name": "ipython",
        "version": 3
      },
      "file_extension": ".py",
      "mimetype": "text/x-python",
      "name": "python",
      "nbconvert_exporter": "python",
      "pygments_lexer": "ipython3",
      "version": "3.8.3"
    },
    "colab": {
      "name": "Text Parser.ipynb",
      "provenance": [],
      "collapsed_sections": []
    }
  },
  "cells": [
    {
      "cell_type": "markdown",
      "metadata": {
        "id": "5_EQ_W4yAVFf"
      },
      "source": [
        "# Geolocalization Text Parser\n",
        "\n",
        "This is the starter code, that shows the basic process of getting a prediction using geoparsepy. "
      ]
    },
    {
      "cell_type": "markdown",
      "metadata": {
        "id": "RFlStXYlAwGN"
      },
      "source": [
        "### Initialization\n",
        "First, we connect to the database that contains hierarchical data from OpenStreetMap. "
      ]
    },
    {
      "cell_type": "code",
      "metadata": {
        "id": "f6ava0E3_8kV"
      },
      "source": [
        "import geoparsepy\n",
        "import os, sys, logging, traceback, codecs, datetime, copy, time, ast, math, re, random, shutil, json\n",
        "import soton_corenlppy\n",
        "import nltk\n",
        "import pickle"
      ],
      "execution_count": null,
      "outputs": []
    },
    {
      "cell_type": "code",
      "metadata": {
        "id": "KvbmE6tw_8kV",
        "outputId": "dc0689ff-9618-48bb-8f98-d7609f41782a"
      },
      "source": [
        "LOG_FORMAT = ('%(message)s')\n",
        "logger = logging.getLogger( __name__ )\n",
        "logging.basicConfig( level=logging.INFO, format=LOG_FORMAT )\n",
        "logger.info('logging started')\n",
        "\n",
        "dictGeospatialConfig = geoparsepy.geo_parse_lib.get_geoparse_config( \n",
        "\tlang_codes = ['en'],\n",
        "\tlogger = logger,\n",
        "\twhitespace = u'\"\\u201a\\u201b\\u201c\\u201d()',\n",
        "\tsent_token_seps = ['\\n','\\r\\n', '\\f', u'\\u2026'],\n",
        "\tpunctuation = \"\"\",;\\/:+-#~&*=!?\"\"\",\n",
        "\t)\n",
        "\n",
        "databaseHandle = soton_corenlppy.PostgresqlHandler.PostgresqlHandler( 'postgres', 'postgres', 'localhost', 5432, 'openstreetmap', 600 )\n",
        "\n",
        "dictLocationIDs = {}\n",
        "listFocusArea=[ 'global_cities', 'europe_places', 'north_america_places', 'uk_places' ]\n",
        "for strFocusArea in listFocusArea :\n",
        "\tdictLocationIDs[strFocusArea + '_admin'] = [-1,-1]\n",
        "\tdictLocationIDs[strFocusArea + '_poly'] = [-1,-1]\n",
        "\tdictLocationIDs[strFocusArea + '_line'] = [-1,-1]\n",
        "\tdictLocationIDs[strFocusArea + '_point'] = [-1,-1]\n"
      ],
      "execution_count": null,
      "outputs": [
        {
          "output_type": "stream",
          "text": [
            "logging started\n",
            "loading stoplist from /Users/ramyabhaskara/opt/anaconda3/lib/python3.8/site-packages/geoparsepy/corpus-geo-stoplist-en.txt\n",
            "loading whitelist from /Users/ramyabhaskara/opt/anaconda3/lib/python3.8/site-packages/geoparsepy/corpus-geo-whitelist.txt\n",
            "loading blacklist from /Users/ramyabhaskara/opt/anaconda3/lib/python3.8/site-packages/geoparsepy/corpus-geo-blacklist.txt\n",
            "loading building types from /Users/ramyabhaskara/opt/anaconda3/lib/python3.8/site-packages/geoparsepy/corpus-buildingtype-en.txt\n",
            "loading location type corpus /Users/ramyabhaskara/opt/anaconda3/lib/python3.8/site-packages/geoparsepy/corpus-buildingtype-en.txt\n",
            "- 3 unique titles\n",
            "- 76 unique types\n",
            "loading street types from /Users/ramyabhaskara/opt/anaconda3/lib/python3.8/site-packages/geoparsepy/corpus-streettype-en.txt\n",
            "loading location type corpus /Users/ramyabhaskara/opt/anaconda3/lib/python3.8/site-packages/geoparsepy/corpus-streettype-en.txt\n",
            "- 15 unique titles\n",
            "- 32 unique types\n",
            "loading admin types from /Users/ramyabhaskara/opt/anaconda3/lib/python3.8/site-packages/geoparsepy/corpus-admintype-en.txt\n",
            "loading location type corpus /Users/ramyabhaskara/opt/anaconda3/lib/python3.8/site-packages/geoparsepy/corpus-admintype-en.txt\n",
            "- 14 unique titles\n",
            "- 0 unique types\n",
            "loading gazeteer from /Users/ramyabhaskara/opt/anaconda3/lib/python3.8/site-packages/geoparsepy/gazeteer-en.txt\n"
          ],
          "name": "stderr"
        }
      ]
    },
    {
      "cell_type": "markdown",
      "metadata": {
        "id": "5bZkqH4NBHB_"
      },
      "source": [
        "### Testing"
      ]
    },
    {
      "cell_type": "markdown",
      "metadata": {
        "id": "qfub_7GVA6Xg"
      },
      "source": [
        "Now, we are able to get some results from tet parsing. Below, we test the following sentences:\n",
        "\n",
        "\n",
        "\n",
        "```\n",
        "listText = [\n",
        "\tu'hello New York, USA its Bill from Bassett calling',\n",
        "\tu'live on the BBC Victoria Derbyshire is visiting Derbyshire for an exclusive UK interview',\n",
        "\t]\n",
        "```\n",
        "\n"
      ]
    },
    {
      "cell_type": "code",
      "metadata": {
        "id": "xDoD_LlO_8kV",
        "outputId": "38f407f4-cc3b-48ee-cf5b-96dc938d7bfe"
      },
      "source": [
        "\n",
        "cached_locations = geoparsepy.geo_preprocess_lib.cache_preprocessed_locations( databaseHandle, dictLocationIDs, 'public', dictGeospatialConfig )\n",
        "logger.info( 'number of cached locations = ' + str(len(cached_locations)) )\n",
        "\n",
        "databaseHandle.close()\n",
        "\n",
        "indexed_locations = geoparsepy.geo_parse_lib.calc_inverted_index( cached_locations, dictGeospatialConfig )\n",
        "logger.info( 'number of indexed phrases = ' + str(len(indexed_locations.keys())) )\n",
        "\n",
        "indexed_geoms = geoparsepy.geo_parse_lib.calc_geom_index( cached_locations )\n",
        "logger.info( 'number of indexed geoms = ' + str(len(indexed_geoms.keys())) )\n",
        "\n",
        "osmid_lookup = geoparsepy.geo_parse_lib.calc_osmid_lookup( cached_locations )\n",
        "\n",
        "dictGeomResultsCache = {}\n",
        "\n",
        "listText = [\n",
        "\tu'hello New York, USA its Bill from Bassett calling',\n",
        "\tu'live on the BBC Victoria Derbyshire is visiting Derbyshire for an exclusive UK interview',\n",
        "\t]\n",
        "\n",
        "listTokenSets = []\n",
        "listGeotags = []\n",
        "for nIndex in range(len(listText)) :\n",
        "\tstrUTF8Text = listText[ nIndex ]\n",
        "\tlistToken = soton_corenlppy.common_parse_lib.unigram_tokenize_text( text = strUTF8Text, dict_common_config = dictGeospatialConfig )\n",
        "\tlistTokenSets.append( listToken )\n",
        "\tlistGeotags.append( None )\n",
        "\n",
        "listMatchSet = geoparsepy.geo_parse_lib.geoparse_token_set( listTokenSets, indexed_locations, dictGeospatialConfig )\n",
        "\n",
        "strGeom = 'POINT(-1.4052268 50.9369033)'\n",
        "listGeotags[0] = strGeom\n",
        "\n",
        "listMatchGeotag = geoparsepy.geo_parse_lib.reverse_geocode_geom( [strGeom], indexed_geoms, dictGeospatialConfig )\n",
        "if len( listMatchGeotag[0] ) > 0  :\n",
        "\tfor tupleOSMIDs in listMatchGeotag[0] :\n",
        "\t\tsetIndexLoc = osmid_lookup[ tupleOSMIDs ]\n",
        "\t\tfor nIndexLoc in setIndexLoc :\n",
        "\t\t\tstrName = cached_locations[nIndexLoc][1]\n",
        "\t\t\tlogger.info( 'Reverse geocoded geotag location [index ' + str(nIndexLoc) + ' osmid ' + repr(tupleOSMIDs) + '] = ' + strName )\n",
        "\n",
        "for nIndex in range(len(listMatchSet)) :\n",
        "\tlogger.info( 'Text = ' + listText[nIndex] )\n",
        "\tlistMatch = listMatchSet[ nIndex ]\n",
        "\tstrGeom = listGeotags[ nIndex ]\n",
        "\tsetOSMID = set([])\n",
        "\tfor tupleMatch in listMatch :\n",
        "\t\tnTokenStart = tupleMatch[0]\n",
        "\t\tnTokenEnd = tupleMatch[1]\n",
        "\t\ttuplePhrase = tupleMatch[3]\n",
        "\t\tfor tupleOSMIDs in tupleMatch[2] :\n",
        "\t\t\tsetIndexLoc = osmid_lookup[ tupleOSMIDs ]\n",
        "\t\t\tfor nIndexLoc in setIndexLoc :\n",
        "\t\t\t\tlogger.info( 'Location [index ' + str(nIndexLoc) + ' osmid ' + repr(tupleOSMIDs) + ' @ ' + str(nTokenStart) + ' : ' + str(nTokenEnd) + '] = ' + ' '.join(tuplePhrase) )\n",
        "\t\t\t\tbreak\n",
        "\tlistLocMatches = geoparsepy.geo_parse_lib.create_matched_location_list( listMatch, cached_locations, osmid_lookup )\n",
        "\tgeoparsepy.geo_parse_lib.filter_matches_by_confidence( listLocMatches, dictGeospatialConfig, geom_context = strGeom, geom_cache = dictGeomResultsCache )\n",
        "\tgeoparsepy.geo_parse_lib.filter_matches_by_geom_area( listLocMatches, dictGeospatialConfig )\n",
        "\tgeoparsepy.geo_parse_lib.filter_matches_by_region_of_interest( listLocMatches, [-148838, -62149], dictGeospatialConfig )\n",
        "\tsetOSMID = set([])\n",
        "\tfor nMatchIndex in range(len(listLocMatches)) :\n",
        "\t\tnTokenStart = listLocMatches[nMatchIndex][1]\n",
        "\t\tnTokenEnd = listLocMatches[nMatchIndex][2]\n",
        "\t\ttuplePhrase = listLocMatches[nMatchIndex][3]\n",
        "\t\tstrGeom = listLocMatches[nMatchIndex][4]\n",
        "\t\ttupleOSMID = listLocMatches[nMatchIndex][5]\n",
        "\t\tdictOSMTags = listLocMatches[nMatchIndex][6]\n",
        "\t\tif not tupleOSMID in setOSMID :\n",
        "\t\t\tsetOSMID.add( tupleOSMID )\n",
        "\t\t\tlistNameMultilingual = geoparsepy.geo_parse_lib.calc_multilingual_osm_name_set( dictOSMTags, dictGeospatialConfig )\n",
        "\t\t\tstrNameList = ';'.join( listNameMultilingual )\n",
        "\t\t\tstrOSMURI = geoparsepy.geo_parse_lib.calc_OSM_uri( tupleOSMID, strGeom )\n",
        "\t\t\tlogger.info( 'Disambiguated Location [index ' + str(nMatchIndex) + ' osmid ' + repr(tupleOSMID) + ' @ ' + str(nTokenStart) + ' : ' + str(nTokenEnd) + '] = ' + strNameList + ' : ' + strOSMURI )"
      ],
      "execution_count": null,
      "outputs": [
        {
          "output_type": "stream",
          "text": [
            "caching locations : {'global_cities_admin': [-1, -1], 'global_cities_poly': [-1, -1], 'global_cities_line': [-1, -1], 'global_cities_point': [-1, -1], 'europe_places_admin': [-1, -1], 'europe_places_poly': [-1, -1], 'europe_places_line': [-1, -1], 'europe_places_point': [-1, -1], 'north_america_places_admin': [-1, -1], 'north_america_places_poly': [-1, -1], 'north_america_places_line': [-1, -1], 'north_america_places_point': [-1, -1], 'uk_places_admin': [-1, -1], 'uk_places_poly': [-1, -1], 'uk_places_line': [-1, -1], 'uk_places_point': [-1, -1]}\n",
            "number of cached locations = 800820\n",
            "number of indexed phrases = 645837\n",
            "number of indexed geoms = 657264\n",
            "Reverse geocoded geotag location [index 190792 osmid (253067120,)] = Bassett\n",
            "Reverse geocoded geotag location [index 779042 osmid (253067120,)] = Bassett\n",
            "Text = hello New York, USA its Bill from Bassett calling\n",
            "Location [index 737029 osmid (61785451,) @ 1 : 2] = new york\n",
            "Location [index 154135 osmid (-175905,) @ 1 : 2] = new york\n",
            "Location [index 737030 osmid (151937435,) @ 1 : 2] = new york\n",
            "Location [index 737031 osmid (316976734,) @ 1 : 2] = new york\n",
            "Location [index 204016 osmid (2218262347,) @ 1 : 2] = new york\n",
            "Location [index 792265 osmid (29457403,) @ 1 : 2] = new york\n",
            "Location [index 160827 osmid (-61320,) @ 1 : 2] = new york\n",
            "Location [index 758476 osmid (153924230,) @ 2 : 2] = york\n",
            "Location [index 758439 osmid (151528825,) @ 2 : 2] = york\n",
            "Location [index 758478 osmid (158656063,) @ 2 : 2] = york\n",
            "Location [index 800785 osmid (20913294,) @ 2 : 2] = york\n",
            "Location [index 758441 osmid (151672942,) @ 2 : 2] = york\n",
            "Location [index 758475 osmid (153595296,) @ 2 : 2] = york\n",
            "Location [index 758477 osmid (153968758,) @ 2 : 2] = york\n",
            "Location [index 758481 osmid (316990182,) @ 2 : 2] = york\n",
            "Location [index 758440 osmid (151651405,) @ 2 : 2] = york\n",
            "Location [index 140263 osmid (-134353,) @ 2 : 2] = york\n",
            "Location [index 128147 osmid (-1425436,) @ 2 : 2] = york\n",
            "Location [index 758442 osmid (153473841,) @ 2 : 2] = york\n",
            "Location [index 155137 osmid (-148838,) @ 4 : 4] = usa\n",
            "Location [index 190792 osmid (253067120,) @ 8 : 8] = bassett\n",
            "Location [index 705522 osmid (151840681,) @ 8 : 8] = bassett\n",
            "Location [index 705521 osmid (151463868,) @ 8 : 8] = bassett\n",
            "Disambiguated Location [index 0 osmid (-61320,) @ 1 : 2] = New York;NY;New York State : http://www.openstreetmap.org/relation/61320\n",
            "Disambiguated Location [index 1 osmid (-148838,) @ 4 : 4] = United States;US;USA;United States of America : http://www.openstreetmap.org/relation/148838\n",
            "Disambiguated Location [index 3 osmid (253067120,) @ 8 : 8] =  : http://www.openstreetmap.org/node/253067120\n",
            "Text = live on the BBC Victoria Derbyshire is visiting Derbyshire for an exclusive UK interview\n",
            "Location [index 174884 osmid (75538688,) @ 4 : 4] = victoria\n",
            "Location [index 595797 osmid (385402175,) @ 4 : 4] = victoria\n",
            "Location [index 754203 osmid (151521359,) @ 4 : 4] = victoria\n",
            "Location [index 172042 osmid (74701108,) @ 4 : 4] = victoria\n",
            "Location [index 59152 osmid (-5606595,) @ 4 : 4] = victoria\n",
            "Location [index 595801 osmid (462241727,) @ 4 : 4] = victoria\n",
            "Location [index 754201 osmid (151395812,) @ 4 : 4] = victoria\n",
            "Location [index 595800 osmid (460070685,) @ 4 : 4] = victoria\n",
            "Location [index 595799 osmid (447925715,) @ 4 : 4] = victoria\n",
            "Location [index 597625 osmid (277608416,) @ 4 : 4] = victoria\n",
            "Location [index 113201 osmid (-1828436,) @ 4 : 4] = victoria\n",
            "Location [index 142938 osmid (-407423,) @ 4 : 4] = victoria\n",
            "Location [index 754204 osmid (154301948,) @ 4 : 4] = victoria\n",
            "Location [index 101298 osmid (-2316741,) @ 4 : 4] = victoria\n",
            "Location [index 595798 osmid (435240340,) @ 4 : 4] = victoria\n",
            "Location [index 59122 osmid (-5606596,) @ 4 : 4] = victoria\n",
            "Location [index 595802 osmid (463188523,) @ 4 : 4] = victoria\n",
            "Location [index 754200 osmid (151336948,) @ 4 : 4] = victoria\n",
            "Location [index 754202 osmid (151476805,) @ 4 : 4] = victoria\n",
            "Location [index 775472 osmid (30189922,) @ 4 : 4] = victoria\n",
            "Location [index 754205 osmid (158651084,) @ 4 : 4] = victoria\n",
            "Location [index 101421 osmid (-2256643,) @ 4 : 4] = victoria\n",
            "Location [index 2522 osmid (-10307525,) @ 4 : 4] = victoria\n",
            "Location [index 137857 osmid (-195384,) @ 8 : 8] = derbyshire\n",
            "Location [index 160769 osmid (-62149,) @ 12 : 12] = uk\n",
            "Disambiguated Location [index 0 osmid (-195384,) @ 8 : 8] = Derbyshire : http://www.openstreetmap.org/relation/195384\n",
            "Disambiguated Location [index 1 osmid (-62149,) @ 12 : 12] = United Kingdom;GB;GBR;UK : http://www.openstreetmap.org/relation/62149\n"
          ],
          "name": "stderr"
        }
      ]
    },
    {
      "cell_type": "markdown",
      "metadata": {
        "id": "drFHGEt4BRbq"
      },
      "source": [
        "The above output shows the ability of geoparsepy to use contextual locations to help ascertain more specific locations, and to rule out others. For instance, we see that it is able to disambiguate Derbyshire, UK, and ignores Victoria, London, UK, because it is being used as a name in this context. "
      ]
    },
    {
      "cell_type": "markdown",
      "metadata": {
        "id": "NFPrtXJsAfSb"
      },
      "source": [
        "These are additional sentences to show the format of the output. \n",
        "\n",
        "\n",
        "\n",
        "```\n",
        "listText = [\n",
        "\tu'Going to philadelphia!', \n",
        "    u'i live in ashburn, virginia',\n",
        "    u'i live in ashburn',\n",
        "    u'im on emmet street',\n",
        "\t]\n",
        "```\n",
        "\n",
        "\n"
      ]
    },
    {
      "cell_type": "code",
      "metadata": {
        "id": "7siWeirw_8kW",
        "outputId": "5573f30b-ba1e-4dae-d243-e1e35b9ba945"
      },
      "source": [
        "listText = [\n",
        "\tu'Going to philadelphia!', \n",
        "    u'i live in ashburn, virginia',\n",
        "    u'i live in ashburn',\n",
        "    u'im on emmet street',\n",
        "\t]\n",
        "\n",
        "listTokenSets = []\n",
        "listGeotags = []\n",
        "for nIndex in range(len(listText)) :\n",
        "\tstrUTF8Text = listText[ nIndex ]\n",
        "\tlistToken = soton_corenlppy.common_parse_lib.unigram_tokenize_text( text = strUTF8Text, dict_common_config = dictGeospatialConfig )\n",
        "\tlistTokenSets.append( listToken )\n",
        "\tlistGeotags.append( None )\n",
        "\n",
        "listMatchSet = geoparsepy.geo_parse_lib.geoparse_token_set( listTokenSets, indexed_locations, dictGeospatialConfig )\n",
        "strGeom = 'POINT(-1.4052268 50.9369033)'\n",
        "listGeotags[0] = strGeom\n",
        "\n",
        "listMatchGeotag = geoparsepy.geo_parse_lib.reverse_geocode_geom( [strGeom], indexed_geoms, dictGeospatialConfig )\n",
        "if len( listMatchGeotag[0] ) > 0  :\n",
        "\tfor tupleOSMIDs in listMatchGeotag[0] :\n",
        "\t\tsetIndexLoc = osmid_lookup[ tupleOSMIDs ]\n",
        "\t\tfor nIndexLoc in setIndexLoc :\n",
        "\t\t\tstrName = cached_locations[nIndexLoc][1]\n",
        "\t\t\tlogger.info( 'Reverse geocoded geotag location [index ' + str(nIndexLoc) + ' osmid ' + repr(tupleOSMIDs) + '] = ' + strName )\n",
        "\n",
        "for nIndex in range(len(listMatchSet)) :\n",
        "\tlogger.info( 'Text = ' + listText[nIndex] )\n",
        "\tlistMatch = listMatchSet[ nIndex ]\n",
        "\tstrGeom = listGeotags[ nIndex ]\n",
        "\tsetOSMID = set([])\n",
        "\tfor tupleMatch in listMatch :\n",
        "\t\tnTokenStart = tupleMatch[0]\n",
        "\t\tnTokenEnd = tupleMatch[1]\n",
        "\t\ttuplePhrase = tupleMatch[3]\n",
        "\t\tfor tupleOSMIDs in tupleMatch[2] :\n",
        "\t\t\tsetIndexLoc = osmid_lookup[ tupleOSMIDs ]\n",
        "\t\t\tfor nIndexLoc in setIndexLoc :\n",
        "\t\t\t\tlogger.info( 'Location [index ' + str(nIndexLoc) + ' osmid ' + repr(tupleOSMIDs) + ' @ ' + str(nTokenStart) + ' : ' + str(nTokenEnd) + '] = ' + ' '.join(tuplePhrase) )\n",
        "\t\t\t\tbreak\n",
        "\tlistLocMatches = geoparsepy.geo_parse_lib.create_matched_location_list( listMatch, cached_locations, osmid_lookup )\n",
        "\tgeoparsepy.geo_parse_lib.filter_matches_by_confidence( listLocMatches, dictGeospatialConfig, geom_context = strGeom, geom_cache = dictGeomResultsCache )\n",
        "\tgeoparsepy.geo_parse_lib.filter_matches_by_geom_area( listLocMatches, dictGeospatialConfig )\n",
        "\tgeoparsepy.geo_parse_lib.filter_matches_by_region_of_interest( listLocMatches, [-148838, -62149], dictGeospatialConfig )\n",
        "\tsetOSMID = set([])\n",
        "\tfor nMatchIndex in range(len(listLocMatches)) :\n",
        "\t\tnTokenStart = listLocMatches[nMatchIndex][1]\n",
        "\t\tnTokenEnd = listLocMatches[nMatchIndex][2]\n",
        "\t\ttuplePhrase = listLocMatches[nMatchIndex][3]\n",
        "\t\tstrGeom = listLocMatches[nMatchIndex][4]\n",
        "\t\ttupleOSMID = listLocMatches[nMatchIndex][5]\n",
        "\t\tdictOSMTags = listLocMatches[nMatchIndex][6]\n",
        "\t\tif not tupleOSMID in setOSMID :\n",
        "\t\t\tsetOSMID.add( tupleOSMID )\n",
        "\t\t\tlistNameMultilingual = geoparsepy.geo_parse_lib.calc_multilingual_osm_name_set( dictOSMTags, dictGeospatialConfig )\n",
        "\t\t\tstrNameList = ';'.join( listNameMultilingual )\n",
        "\t\t\tstrOSMURI = geoparsepy.geo_parse_lib.calc_OSM_uri( tupleOSMID, strGeom )\n",
        "\t\t\tlogger.info( 'Disambiguated Location [index ' + str(nMatchIndex) + ' osmid ' + repr(tupleOSMID) + ' @ ' + str(nTokenStart) + ' : ' + str(nTokenEnd) + '] = ' + strNameList + ' : ' + strOSMURI )\n",
        "\t\t\tprint('Disambiguated Location [index ' + str(nMatchIndex))"
      ],
      "execution_count": null,
      "outputs": [
        {
          "output_type": "stream",
          "text": [
            "Reverse geocoded geotag location [index 190792 osmid (253067120,)] = Bassett\n",
            "Reverse geocoded geotag location [index 779042 osmid (253067120,)] = Bassett\n",
            "Text = Going to philadelphia!\n",
            "Location [index 335662 osmid (99684013,) @ 2 : 2] = philadelphia\n",
            "Location [index 741002 osmid (154060918,) @ 2 : 2] = philadelphia\n",
            "Location [index 741004 osmid (316987670,) @ 2 : 2] = philadelphia\n",
            "Location [index 741001 osmid (151393553,) @ 2 : 2] = philadelphia\n",
            "Location [index 741006 osmid (5518033962,) @ 2 : 2] = philadelphia\n",
            "Location [index 741003 osmid (158636482,) @ 2 : 2] = philadelphia\n",
            "Disambiguated Location [index 0 osmid (154060918,) @ 2 : 2] =  : http://www.openstreetmap.org/node/154060918\n",
            "Disambiguated Location [index 1 osmid (316987670,) @ 2 : 2] =  : http://www.openstreetmap.org/node/316987670\n",
            "Disambiguated Location [index 2 osmid (151393553,) @ 2 : 2] =  : http://www.openstreetmap.org/node/151393553\n",
            "Disambiguated Location [index 3 osmid (5518033962,) @ 2 : 2] =  : http://www.openstreetmap.org/node/5518033962\n",
            "Disambiguated Location [index 4 osmid (158636482,) @ 2 : 2] =  : http://www.openstreetmap.org/node/158636482\n",
            "Text = i live in ashburn, virginia\n",
            "Location [index 704460 osmid (153649201,) @ 3 : 3] = ashburn\n",
            "Location [index 704426 osmid (154039690,) @ 3 : 3] = ashburn\n",
            "Location [index 704461 osmid (158504587,) @ 3 : 3] = ashburn\n",
            "Location [index 152761 osmid (-224042,) @ 5 : 5] = virginia\n",
            "Location [index 754520 osmid (151886519,) @ 5 : 5] = virginia\n",
            "Location [index 754521 osmid (317004702,) @ 5 : 5] = virginia\n",
            "Location [index 754519 osmid (151483691,) @ 5 : 5] = virginia\n",
            "Location [index 398615 osmid (52222554,) @ 5 : 5] = virginia\n",
            "Disambiguated Location [index 0 osmid (158504587,) @ 3 : 3] =  : http://www.openstreetmap.org/node/158504587\n",
            "Disambiguated Location [index 1 osmid (-224042,) @ 5 : 5] = Virginia;VA : http://www.openstreetmap.org/relation/224042\n",
            "Text = i live in ashburn\n",
            "Location [index 704460 osmid (153649201,) @ 3 : 3] = ashburn\n",
            "Location [index 704426 osmid (154039690,) @ 3 : 3] = ashburn\n",
            "Location [index 704461 osmid (158504587,) @ 3 : 3] = ashburn\n",
            "Disambiguated Location [index 0 osmid (153649201,) @ 3 : 3] =  : http://www.openstreetmap.org/node/153649201\n",
            "Disambiguated Location [index 1 osmid (154039690,) @ 3 : 3] =  : http://www.openstreetmap.org/node/154039690\n",
            "Disambiguated Location [index 2 osmid (158504587,) @ 3 : 3] =  : http://www.openstreetmap.org/node/158504587\n",
            "Text = im on emmet street\n",
            "Location [index 105689 osmid (-1997289,) @ 0 : 0] = im\n",
            "Location [index 160770 osmid (-62269,) @ 0 : 0] = im\n",
            "Location [index 158976 osmid (-77101,) @ 0 : 0] = im\n",
            "Location [index 155814 osmid (-42628,) @ 0 : 0] = im\n",
            "Location [index 718199 osmid (151341822,) @ 2 : 2] = emmet\n",
            "Location [index 718200 osmid (151869741,) @ 2 : 2] = emmet\n",
            "Location [index 109876 osmid (-1907313,) @ 2 : 2] = emmet\n",
            "Location [index 115945 osmid (-1790339,) @ 2 : 2] = emmet\n",
            "Disambiguated Location [index 0 osmid (-1907313,) @ 2 : 2] = Emmet County;Emmet : http://www.openstreetmap.org/relation/1907313\n",
            "Disambiguated Location [index 1 osmid (-1790339,) @ 2 : 2] = Emmet County;Emmet : http://www.openstreetmap.org/relation/1790339\n"
          ],
          "name": "stderr"
        },
        {
          "output_type": "stream",
          "text": [
            "Disambiguated Location [index 0\n",
            "Disambiguated Location [index 1\n",
            "Disambiguated Location [index 2\n",
            "Disambiguated Location [index 3\n",
            "Disambiguated Location [index 4\n",
            "Disambiguated Location [index 0\n",
            "Disambiguated Location [index 1\n",
            "Disambiguated Location [index 0\n",
            "Disambiguated Location [index 1\n",
            "Disambiguated Location [index 2\n",
            "Disambiguated Location [index 0\n",
            "Disambiguated Location [index 1\n"
          ],
          "name": "stdout"
        }
      ]
    },
    {
      "cell_type": "markdown",
      "metadata": {
        "id": "-qSSGkFPCKF4"
      },
      "source": [
        "From this text, we see the inability of Geoparsepy to disambiguate very specific locations, such as street names and stores. "
      ]
    }
  ]
}